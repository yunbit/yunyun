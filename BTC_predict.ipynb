{
  "nbformat": 4,
  "nbformat_minor": 0,
  "metadata": {
    "colab": {
      "name": "BTC_predict.ipynb",
      "provenance": [],
      "authorship_tag": "ABX9TyP5thH85zBWognO/ZVRe6Ve",
      "include_colab_link": true
    },
    "kernelspec": {
      "name": "python3",
      "display_name": "Python 3"
    },
    "language_info": {
      "name": "python"
    }
  },
  "cells": [
    {
      "cell_type": "markdown",
      "metadata": {
        "id": "view-in-github",
        "colab_type": "text"
      },
      "source": [
        "<a href=\"https://colab.research.google.com/github/youtube-jocoding/pyupbit-autotrade/blob/main/BTC_predict.ipynb\" target=\"_parent\"><img src=\"https://colab.research.google.com/assets/colab-badge.svg\" alt=\"Open In Colab\"/></a>"
      ]
    },
    {
      "cell_type": "code",
      "metadata": {
        "id": "HV0SrOgcHMw_"
      },
      "source": [
        "!pip install pyupbit"
      ],
      "execution_count": null,
      "outputs": []
    },
    {
      "cell_type": "code",
      "metadata": {
        "id": "OPo1hQ62HcxA"
      },
      "source": [
        "import pyupbit"
      ],
      "execution_count": null,
      "outputs": []
    },
    {
      "cell_type": "code",
      "metadata": {
        "colab": {
          "base_uri": "https://localhost:8080/",
          "height": 402
        },
        "id": "sjI3ac9tT7D2",
        "outputId": "142ff09e-6574-4dc7-f117-e1c2e565eba1"
      },
      "source": [
        "#BTC 최근 200시간의 데이터 불러옴\n",
        "df = pyupbit.get_ohlcv(\"KRW-BTC\", interval=\"minute60\")\n",
        "df"
      ],
      "execution_count": null,
      "outputs": [
        {
          "output_type": "execute_result",
          "data": {
            "text/html": [
              "<div>\n",
              "<style scoped>\n",
              "    .dataframe tbody tr th:only-of-type {\n",
              "        vertical-align: middle;\n",
              "    }\n",
              "\n",
              "    .dataframe tbody tr th {\n",
              "        vertical-align: top;\n",
              "    }\n",
              "\n",
              "    .dataframe thead th {\n",
              "        text-align: right;\n",
              "    }\n",
              "</style>\n",
              "<table border=\"1\" class=\"dataframe\">\n",
              "  <thead>\n",
              "    <tr style=\"text-align: right;\">\n",
              "      <th></th>\n",
              "      <th>open</th>\n",
              "      <th>high</th>\n",
              "      <th>low</th>\n",
              "      <th>close</th>\n",
              "      <th>volume</th>\n",
              "      <th>value</th>\n",
              "    </tr>\n",
              "  </thead>\n",
              "  <tbody>\n",
              "    <tr>\n",
              "      <th>2021-05-08 20:00:00</th>\n",
              "      <td>70080000.0</td>\n",
              "      <td>70397000.0</td>\n",
              "      <td>70031000.0</td>\n",
              "      <td>70278000.0</td>\n",
              "      <td>282.481680</td>\n",
              "      <td>1.983373e+10</td>\n",
              "    </tr>\n",
              "    <tr>\n",
              "      <th>2021-05-08 21:00:00</th>\n",
              "      <td>70202000.0</td>\n",
              "      <td>70600000.0</td>\n",
              "      <td>69775000.0</td>\n",
              "      <td>70353000.0</td>\n",
              "      <td>512.864414</td>\n",
              "      <td>3.595321e+10</td>\n",
              "    </tr>\n",
              "    <tr>\n",
              "      <th>2021-05-08 22:00:00</th>\n",
              "      <td>70353000.0</td>\n",
              "      <td>71400000.0</td>\n",
              "      <td>70261000.0</td>\n",
              "      <td>70402000.0</td>\n",
              "      <td>1074.924200</td>\n",
              "      <td>7.618756e+10</td>\n",
              "    </tr>\n",
              "    <tr>\n",
              "      <th>2021-05-08 23:00:00</th>\n",
              "      <td>70467000.0</td>\n",
              "      <td>70586000.0</td>\n",
              "      <td>70101000.0</td>\n",
              "      <td>70264000.0</td>\n",
              "      <td>495.536391</td>\n",
              "      <td>3.485509e+10</td>\n",
              "    </tr>\n",
              "    <tr>\n",
              "      <th>2021-05-09 00:00:00</th>\n",
              "      <td>70245000.0</td>\n",
              "      <td>70732000.0</td>\n",
              "      <td>69377000.0</td>\n",
              "      <td>69561000.0</td>\n",
              "      <td>674.450592</td>\n",
              "      <td>4.724700e+10</td>\n",
              "    </tr>\n",
              "    <tr>\n",
              "      <th>...</th>\n",
              "      <td>...</td>\n",
              "      <td>...</td>\n",
              "      <td>...</td>\n",
              "      <td>...</td>\n",
              "      <td>...</td>\n",
              "      <td>...</td>\n",
              "    </tr>\n",
              "    <tr>\n",
              "      <th>2021-05-16 23:00:00</th>\n",
              "      <td>59941000.0</td>\n",
              "      <td>60155000.0</td>\n",
              "      <td>59293000.0</td>\n",
              "      <td>59355000.0</td>\n",
              "      <td>417.846935</td>\n",
              "      <td>2.493730e+10</td>\n",
              "    </tr>\n",
              "    <tr>\n",
              "      <th>2021-05-17 00:00:00</th>\n",
              "      <td>59370000.0</td>\n",
              "      <td>59440000.0</td>\n",
              "      <td>58800000.0</td>\n",
              "      <td>58810000.0</td>\n",
              "      <td>417.550735</td>\n",
              "      <td>2.465069e+10</td>\n",
              "    </tr>\n",
              "    <tr>\n",
              "      <th>2021-05-17 01:00:00</th>\n",
              "      <td>58811000.0</td>\n",
              "      <td>59000000.0</td>\n",
              "      <td>58327000.0</td>\n",
              "      <td>58480000.0</td>\n",
              "      <td>494.023674</td>\n",
              "      <td>2.897628e+10</td>\n",
              "    </tr>\n",
              "    <tr>\n",
              "      <th>2021-05-17 02:00:00</th>\n",
              "      <td>58513000.0</td>\n",
              "      <td>58638000.0</td>\n",
              "      <td>57900000.0</td>\n",
              "      <td>57996000.0</td>\n",
              "      <td>675.896966</td>\n",
              "      <td>3.928135e+10</td>\n",
              "    </tr>\n",
              "    <tr>\n",
              "      <th>2021-05-17 03:00:00</th>\n",
              "      <td>57997000.0</td>\n",
              "      <td>58278000.0</td>\n",
              "      <td>57501000.0</td>\n",
              "      <td>57550000.0</td>\n",
              "      <td>231.009586</td>\n",
              "      <td>1.336449e+10</td>\n",
              "    </tr>\n",
              "  </tbody>\n",
              "</table>\n",
              "<p>200 rows × 6 columns</p>\n",
              "</div>"
            ],
            "text/plain": [
              "                           open        high  ...       volume         value\n",
              "2021-05-08 20:00:00  70080000.0  70397000.0  ...   282.481680  1.983373e+10\n",
              "2021-05-08 21:00:00  70202000.0  70600000.0  ...   512.864414  3.595321e+10\n",
              "2021-05-08 22:00:00  70353000.0  71400000.0  ...  1074.924200  7.618756e+10\n",
              "2021-05-08 23:00:00  70467000.0  70586000.0  ...   495.536391  3.485509e+10\n",
              "2021-05-09 00:00:00  70245000.0  70732000.0  ...   674.450592  4.724700e+10\n",
              "...                         ...         ...  ...          ...           ...\n",
              "2021-05-16 23:00:00  59941000.0  60155000.0  ...   417.846935  2.493730e+10\n",
              "2021-05-17 00:00:00  59370000.0  59440000.0  ...   417.550735  2.465069e+10\n",
              "2021-05-17 01:00:00  58811000.0  59000000.0  ...   494.023674  2.897628e+10\n",
              "2021-05-17 02:00:00  58513000.0  58638000.0  ...   675.896966  3.928135e+10\n",
              "2021-05-17 03:00:00  57997000.0  58278000.0  ...   231.009586  1.336449e+10\n",
              "\n",
              "[200 rows x 6 columns]"
            ]
          },
          "metadata": {
            "tags": []
          },
          "execution_count": 27
        }
      ]
    },
    {
      "cell_type": "code",
      "metadata": {
        "colab": {
          "base_uri": "https://localhost:8080/",
          "height": 402
        },
        "id": "eDaG0GWkVO3N",
        "outputId": "af8c6c98-0b8c-41a9-cb85-0dbea994f230"
      },
      "source": [
        "#시간(ds)와 종가(y)값만 남김\n",
        "df = df.reset_index()\n",
        "df['ds'] = df['index']\n",
        "df['y'] = df['close']\n",
        "data = df[['ds','y']]\n",
        "data"
      ],
      "execution_count": null,
      "outputs": [
        {
          "output_type": "execute_result",
          "data": {
            "text/html": [
              "<div>\n",
              "<style scoped>\n",
              "    .dataframe tbody tr th:only-of-type {\n",
              "        vertical-align: middle;\n",
              "    }\n",
              "\n",
              "    .dataframe tbody tr th {\n",
              "        vertical-align: top;\n",
              "    }\n",
              "\n",
              "    .dataframe thead th {\n",
              "        text-align: right;\n",
              "    }\n",
              "</style>\n",
              "<table border=\"1\" class=\"dataframe\">\n",
              "  <thead>\n",
              "    <tr style=\"text-align: right;\">\n",
              "      <th></th>\n",
              "      <th>ds</th>\n",
              "      <th>y</th>\n",
              "    </tr>\n",
              "  </thead>\n",
              "  <tbody>\n",
              "    <tr>\n",
              "      <th>0</th>\n",
              "      <td>2021-05-08 20:00:00</td>\n",
              "      <td>70278000.0</td>\n",
              "    </tr>\n",
              "    <tr>\n",
              "      <th>1</th>\n",
              "      <td>2021-05-08 21:00:00</td>\n",
              "      <td>70353000.0</td>\n",
              "    </tr>\n",
              "    <tr>\n",
              "      <th>2</th>\n",
              "      <td>2021-05-08 22:00:00</td>\n",
              "      <td>70402000.0</td>\n",
              "    </tr>\n",
              "    <tr>\n",
              "      <th>3</th>\n",
              "      <td>2021-05-08 23:00:00</td>\n",
              "      <td>70264000.0</td>\n",
              "    </tr>\n",
              "    <tr>\n",
              "      <th>4</th>\n",
              "      <td>2021-05-09 00:00:00</td>\n",
              "      <td>69561000.0</td>\n",
              "    </tr>\n",
              "    <tr>\n",
              "      <th>...</th>\n",
              "      <td>...</td>\n",
              "      <td>...</td>\n",
              "    </tr>\n",
              "    <tr>\n",
              "      <th>195</th>\n",
              "      <td>2021-05-16 23:00:00</td>\n",
              "      <td>59355000.0</td>\n",
              "    </tr>\n",
              "    <tr>\n",
              "      <th>196</th>\n",
              "      <td>2021-05-17 00:00:00</td>\n",
              "      <td>58810000.0</td>\n",
              "    </tr>\n",
              "    <tr>\n",
              "      <th>197</th>\n",
              "      <td>2021-05-17 01:00:00</td>\n",
              "      <td>58480000.0</td>\n",
              "    </tr>\n",
              "    <tr>\n",
              "      <th>198</th>\n",
              "      <td>2021-05-17 02:00:00</td>\n",
              "      <td>57996000.0</td>\n",
              "    </tr>\n",
              "    <tr>\n",
              "      <th>199</th>\n",
              "      <td>2021-05-17 03:00:00</td>\n",
              "      <td>57550000.0</td>\n",
              "    </tr>\n",
              "  </tbody>\n",
              "</table>\n",
              "<p>200 rows × 2 columns</p>\n",
              "</div>"
            ],
            "text/plain": [
              "                     ds           y\n",
              "0   2021-05-08 20:00:00  70278000.0\n",
              "1   2021-05-08 21:00:00  70353000.0\n",
              "2   2021-05-08 22:00:00  70402000.0\n",
              "3   2021-05-08 23:00:00  70264000.0\n",
              "4   2021-05-09 00:00:00  69561000.0\n",
              "..                  ...         ...\n",
              "195 2021-05-16 23:00:00  59355000.0\n",
              "196 2021-05-17 00:00:00  58810000.0\n",
              "197 2021-05-17 01:00:00  58480000.0\n",
              "198 2021-05-17 02:00:00  57996000.0\n",
              "199 2021-05-17 03:00:00  57550000.0\n",
              "\n",
              "[200 rows x 2 columns]"
            ]
          },
          "metadata": {
            "tags": []
          },
          "execution_count": 73
        }
      ]
    },
    {
      "cell_type": "code",
      "metadata": {
        "id": "NeNx5_hhXbR1"
      },
      "source": [
        "#prophet 불러옴\n",
        "from fbprophet import Prophet"
      ],
      "execution_count": null,
      "outputs": []
    },
    {
      "cell_type": "code",
      "metadata": {
        "colab": {
          "base_uri": "https://localhost:8080/"
        },
        "id": "lLe7j7jnVep2",
        "outputId": "c7062e3f-e632-4743-e809-ab993a7ebe2b"
      },
      "source": [
        "#학습\n",
        "model = Prophet()\n",
        "model.fit(data)"
      ],
      "execution_count": null,
      "outputs": [
        {
          "output_type": "stream",
          "text": [
            "INFO:fbprophet:Disabling yearly seasonality. Run prophet with yearly_seasonality=True to override this.\n",
            "INFO:fbprophet:Disabling weekly seasonality. Run prophet with weekly_seasonality=True to override this.\n"
          ],
          "name": "stderr"
        },
        {
          "output_type": "execute_result",
          "data": {
            "text/plain": [
              "<fbprophet.forecaster.Prophet at 0x7fc15ca2ee90>"
            ]
          },
          "metadata": {
            "tags": []
          },
          "execution_count": 75
        }
      ]
    },
    {
      "cell_type": "code",
      "metadata": {
        "id": "ylP8nXwEYBxK"
      },
      "source": [
        "#24시간 미래 예측\n",
        "future = model.make_future_dataframe(periods=24, freq='H')\n",
        "forecast = model.predict(future)"
      ],
      "execution_count": null,
      "outputs": []
    },
    {
      "cell_type": "code",
      "metadata": {
        "colab": {
          "base_uri": "https://localhost:8080/",
          "height": 441
        },
        "id": "_zzI5o0OXN5H",
        "outputId": "11e9714a-d07d-4c95-dddf-eb24d734b629"
      },
      "source": [
        "#그래프1\n",
        "fig1 = model.plot(forecast)"
      ],
      "execution_count": null,
      "outputs": [
        {
          "output_type": "display_data",
          "data": {
            "image/png": "[encoded data removed]",
            "text/plain": [
              "<Figure size 720x432 with 1 Axes>"
            ]
          },
          "metadata": {
            "tags": []
          }
        }
      ]
    },
    {
      "cell_type": "code",
      "metadata": {
        "colab": {
          "base_uri": "https://localhost:8080/",
          "height": 441
        },
        "id": "DkVLmIsPXOl6",
        "outputId": "ac9f645a-105b-444c-89ac-11a554e6e082"
      },
      "source": [
        "#그래프2\n",
        "fig2 = model.plot_components(forecast)"
      ],
      "execution_count": null,
      "outputs": [
        {
          "output_type": "display_data",
          "data": {
            "image/png": "[encoded data removed]",
            "text/plain": [
              "<Figure size 648x432 with 2 Axes>"
            ]
          },
          "metadata": {
            "tags": []
          }
        }
      ]
    },
    {
      "cell_type": "code",
      "metadata": {
        "colab": {
          "base_uri": "https://localhost:8080/"
        },
        "id": "GJgSNaOcr5_t",
        "outputId": "3cf9b79d-94d6-4da8-dac0-24edd0b0c57d"
      },
      "source": [
        "#매수 시점의 가격\n",
        "nowValue = pyupbit.get_current_price(\"KRW-BTC\")\n",
        "nowValue"
      ],
      "execution_count": null,
      "outputs": [
        {
          "output_type": "execute_result",
          "data": {
            "text/plain": [
              "57098000.0"
            ]
          },
          "metadata": {
            "tags": []
          },
          "execution_count": 84
        }
      ]
    },
    {
      "cell_type": "code",
      "metadata": {
        "colab": {
          "base_uri": "https://localhost:8080/"
        },
        "id": "SPXCEMj4ma6h",
        "outputId": "1918f82e-5d28-4f0d-cf79-d8c457671d96"
      },
      "source": [
        "#종가의 가격을 구함\n",
        "\n",
        "#현재 시간이 자정 이전\n",
        "closeDf = forecast[forecast['ds'] == forecast.iloc[-1]['ds'].replace(hour=9)]\n",
        "\n",
        "#현재 시간이 자정 이후\n",
        "if len(closeDf) == 0:\n",
        "  closeDf = forecast[forecast['ds'] == data.iloc[-1]['ds'].replace(hour=9)]\n",
        "\n",
        "#어쨋든 당일 종가\n",
        "closeValue = closeDf['yhat'].values[0]\n",
        "closeValue"
      ],
      "execution_count": null,
      "outputs": [
        {
          "output_type": "execute_result",
          "data": {
            "text/plain": [
              "58097882.673339084"
            ]
          },
          "metadata": {
            "tags": []
          },
          "execution_count": 85
        }
      ]
    },
    {
      "cell_type": "code",
      "metadata": {
        "colab": {
          "base_uri": "https://localhost:8080/"
        },
        "id": "bUOLBXFNm2cd",
        "outputId": "be8d1c13-ad5a-46ec-bdb7-006098b9057a"
      },
      "source": [
        "#구체적인 가격\n",
        "print(\"현재 시점 가격: \", nowValue)\n",
        "print(\"종가의 가격: \", closeValue)"
      ],
      "execution_count": null,
      "outputs": [
        {
          "output_type": "stream",
          "text": [
            "현재 시점 가격:  57098000.0\n",
            "종가의 가격:  58097882.673339084\n"
          ],
          "name": "stdout"
        }
      ]
    },
    {
      "cell_type": "code",
      "metadata": {
        "colab": {
          "base_uri": "https://localhost:8080/",
          "height": 758
        },
        "id": "BS_M58SRt94s",
        "outputId": "13b02e67-563d-4956-baf0-8cc58bbc64da"
      },
      "source": [
        "forecast"
      ],
      "execution_count": null,
      "outputs": [
        {
          "output_type": "execute_result",
          "data": {
            "text/html": [
              "<div>\n",
              "<style scoped>\n",
              "    .dataframe tbody tr th:only-of-type {\n",
              "        vertical-align: middle;\n",
              "    }\n",
              "\n",
              "    .dataframe tbody tr th {\n",
              "        vertical-align: top;\n",
              "    }\n",
              "\n",
              "    .dataframe thead th {\n",
              "        text-align: right;\n",
              "    }\n",
              "</style>\n",
              "<table border=\"1\" class=\"dataframe\">\n",
              "  <thead>\n",
              "    <tr style=\"text-align: right;\">\n",
              "      <th></th>\n",
              "      <th>ds</th>\n",
              "      <th>trend</th>\n",
              "      <th>yhat_lower</th>\n",
              "      <th>yhat_upper</th>\n",
              "      <th>trend_lower</th>\n",
              "      <th>trend_upper</th>\n",
              "      <th>additive_terms</th>\n",
              "      <th>additive_terms_lower</th>\n",
              "      <th>additive_terms_upper</th>\n",
              "      <th>daily</th>\n",
              "      <th>daily_lower</th>\n",
              "      <th>daily_upper</th>\n",
              "      <th>multiplicative_terms</th>\n",
              "      <th>multiplicative_terms_lower</th>\n",
              "      <th>multiplicative_terms_upper</th>\n",
              "      <th>yhat</th>\n",
              "    </tr>\n",
              "  </thead>\n",
              "  <tbody>\n",
              "    <tr>\n",
              "      <th>0</th>\n",
              "      <td>2021-05-08 20:00:00</td>\n",
              "      <td>7.049319e+07</td>\n",
              "      <td>6.978264e+07</td>\n",
              "      <td>7.145666e+07</td>\n",
              "      <td>7.049319e+07</td>\n",
              "      <td>7.049319e+07</td>\n",
              "      <td>73763.938017</td>\n",
              "      <td>73763.938017</td>\n",
              "      <td>73763.938017</td>\n",
              "      <td>73763.938017</td>\n",
              "      <td>73763.938017</td>\n",
              "      <td>73763.938017</td>\n",
              "      <td>0.0</td>\n",
              "      <td>0.0</td>\n",
              "      <td>0.0</td>\n",
              "      <td>7.056695e+07</td>\n",
              "    </tr>\n",
              "    <tr>\n",
              "      <th>1</th>\n",
              "      <td>2021-05-08 21:00:00</td>\n",
              "      <td>7.054058e+07</td>\n",
              "      <td>6.981790e+07</td>\n",
              "      <td>7.151720e+07</td>\n",
              "      <td>7.054058e+07</td>\n",
              "      <td>7.054058e+07</td>\n",
              "      <td>155154.366642</td>\n",
              "      <td>155154.366642</td>\n",
              "      <td>155154.366642</td>\n",
              "      <td>155154.366642</td>\n",
              "      <td>155154.366642</td>\n",
              "      <td>155154.366642</td>\n",
              "      <td>0.0</td>\n",
              "      <td>0.0</td>\n",
              "      <td>0.0</td>\n",
              "      <td>7.069573e+07</td>\n",
              "    </tr>\n",
              "    <tr>\n",
              "      <th>2</th>\n",
              "      <td>2021-05-08 22:00:00</td>\n",
              "      <td>7.058797e+07</td>\n",
              "      <td>6.993552e+07</td>\n",
              "      <td>7.159752e+07</td>\n",
              "      <td>7.058797e+07</td>\n",
              "      <td>7.058797e+07</td>\n",
              "      <td>200297.460741</td>\n",
              "      <td>200297.460741</td>\n",
              "      <td>200297.460741</td>\n",
              "      <td>200297.460741</td>\n",
              "      <td>200297.460741</td>\n",
              "      <td>200297.460741</td>\n",
              "      <td>0.0</td>\n",
              "      <td>0.0</td>\n",
              "      <td>0.0</td>\n",
              "      <td>7.078827e+07</td>\n",
              "    </tr>\n",
              "    <tr>\n",
              "      <th>3</th>\n",
              "      <td>2021-05-08 23:00:00</td>\n",
              "      <td>7.063536e+07</td>\n",
              "      <td>6.995876e+07</td>\n",
              "      <td>7.160555e+07</td>\n",
              "      <td>7.063536e+07</td>\n",
              "      <td>7.063536e+07</td>\n",
              "      <td>127033.847973</td>\n",
              "      <td>127033.847973</td>\n",
              "      <td>127033.847973</td>\n",
              "      <td>127033.847973</td>\n",
              "      <td>127033.847973</td>\n",
              "      <td>127033.847973</td>\n",
              "      <td>0.0</td>\n",
              "      <td>0.0</td>\n",
              "      <td>0.0</td>\n",
              "      <td>7.076239e+07</td>\n",
              "    </tr>\n",
              "    <tr>\n",
              "      <th>4</th>\n",
              "      <td>2021-05-09 00:00:00</td>\n",
              "      <td>7.068275e+07</td>\n",
              "      <td>6.977696e+07</td>\n",
              "      <td>7.145736e+07</td>\n",
              "      <td>7.068275e+07</td>\n",
              "      <td>7.068275e+07</td>\n",
              "      <td>-64004.026527</td>\n",
              "      <td>-64004.026527</td>\n",
              "      <td>-64004.026527</td>\n",
              "      <td>-64004.026527</td>\n",
              "      <td>-64004.026527</td>\n",
              "      <td>-64004.026527</td>\n",
              "      <td>0.0</td>\n",
              "      <td>0.0</td>\n",
              "      <td>0.0</td>\n",
              "      <td>7.061875e+07</td>\n",
              "    </tr>\n",
              "    <tr>\n",
              "      <th>...</th>\n",
              "      <td>...</td>\n",
              "      <td>...</td>\n",
              "      <td>...</td>\n",
              "      <td>...</td>\n",
              "      <td>...</td>\n",
              "      <td>...</td>\n",
              "      <td>...</td>\n",
              "      <td>...</td>\n",
              "      <td>...</td>\n",
              "      <td>...</td>\n",
              "      <td>...</td>\n",
              "      <td>...</td>\n",
              "      <td>...</td>\n",
              "      <td>...</td>\n",
              "      <td>...</td>\n",
              "      <td>...</td>\n",
              "    </tr>\n",
              "    <tr>\n",
              "      <th>219</th>\n",
              "      <td>2021-05-17 23:00:00</td>\n",
              "      <td>5.741650e+07</td>\n",
              "      <td>5.620334e+07</td>\n",
              "      <td>5.893053e+07</td>\n",
              "      <td>5.640791e+07</td>\n",
              "      <td>5.859450e+07</td>\n",
              "      <td>127033.847977</td>\n",
              "      <td>127033.847977</td>\n",
              "      <td>127033.847977</td>\n",
              "      <td>127033.847977</td>\n",
              "      <td>127033.847977</td>\n",
              "      <td>127033.847977</td>\n",
              "      <td>0.0</td>\n",
              "      <td>0.0</td>\n",
              "      <td>0.0</td>\n",
              "      <td>5.754353e+07</td>\n",
              "    </tr>\n",
              "    <tr>\n",
              "      <th>220</th>\n",
              "      <td>2021-05-18 00:00:00</td>\n",
              "      <td>5.735429e+07</td>\n",
              "      <td>5.587900e+07</td>\n",
              "      <td>5.883842e+07</td>\n",
              "      <td>5.624516e+07</td>\n",
              "      <td>5.862328e+07</td>\n",
              "      <td>-64004.026533</td>\n",
              "      <td>-64004.026533</td>\n",
              "      <td>-64004.026533</td>\n",
              "      <td>-64004.026533</td>\n",
              "      <td>-64004.026533</td>\n",
              "      <td>-64004.026533</td>\n",
              "      <td>0.0</td>\n",
              "      <td>0.0</td>\n",
              "      <td>0.0</td>\n",
              "      <td>5.729029e+07</td>\n",
              "    </tr>\n",
              "    <tr>\n",
              "      <th>221</th>\n",
              "      <td>2021-05-18 01:00:00</td>\n",
              "      <td>5.729208e+07</td>\n",
              "      <td>5.553360e+07</td>\n",
              "      <td>5.871707e+07</td>\n",
              "      <td>5.610166e+07</td>\n",
              "      <td>5.864511e+07</td>\n",
              "      <td>-264151.046571</td>\n",
              "      <td>-264151.046571</td>\n",
              "      <td>-264151.046571</td>\n",
              "      <td>-264151.046571</td>\n",
              "      <td>-264151.046571</td>\n",
              "      <td>-264151.046571</td>\n",
              "      <td>0.0</td>\n",
              "      <td>0.0</td>\n",
              "      <td>0.0</td>\n",
              "      <td>5.702793e+07</td>\n",
              "    </tr>\n",
              "    <tr>\n",
              "      <th>222</th>\n",
              "      <td>2021-05-18 02:00:00</td>\n",
              "      <td>5.722988e+07</td>\n",
              "      <td>5.527597e+07</td>\n",
              "      <td>5.845177e+07</td>\n",
              "      <td>5.594232e+07</td>\n",
              "      <td>5.868056e+07</td>\n",
              "      <td>-331244.053737</td>\n",
              "      <td>-331244.053737</td>\n",
              "      <td>-331244.053737</td>\n",
              "      <td>-331244.053737</td>\n",
              "      <td>-331244.053737</td>\n",
              "      <td>-331244.053737</td>\n",
              "      <td>0.0</td>\n",
              "      <td>0.0</td>\n",
              "      <td>0.0</td>\n",
              "      <td>5.689863e+07</td>\n",
              "    </tr>\n",
              "    <tr>\n",
              "      <th>223</th>\n",
              "      <td>2021-05-18 03:00:00</td>\n",
              "      <td>5.716767e+07</td>\n",
              "      <td>5.526153e+07</td>\n",
              "      <td>5.871909e+07</td>\n",
              "      <td>5.577408e+07</td>\n",
              "      <td>5.873862e+07</td>\n",
              "      <td>-207139.503841</td>\n",
              "      <td>-207139.503841</td>\n",
              "      <td>-207139.503841</td>\n",
              "      <td>-207139.503841</td>\n",
              "      <td>-207139.503841</td>\n",
              "      <td>-207139.503841</td>\n",
              "      <td>0.0</td>\n",
              "      <td>0.0</td>\n",
              "      <td>0.0</td>\n",
              "      <td>5.696053e+07</td>\n",
              "    </tr>\n",
              "  </tbody>\n",
              "</table>\n",
              "<p>224 rows × 16 columns</p>\n",
              "</div>"
            ],
            "text/plain": [
              "                     ds         trend  ...  multiplicative_terms_upper          yhat\n",
              "0   2021-05-08 20:00:00  7.049319e+07  ...                         0.0  7.056695e+07\n",
              "1   2021-05-08 21:00:00  7.054058e+07  ...                         0.0  7.069573e+07\n",
              "2   2021-05-08 22:00:00  7.058797e+07  ...                         0.0  7.078827e+07\n",
              "3   2021-05-08 23:00:00  7.063536e+07  ...                         0.0  7.076239e+07\n",
              "4   2021-05-09 00:00:00  7.068275e+07  ...                         0.0  7.061875e+07\n",
              "..                  ...           ...  ...                         ...           ...\n",
              "219 2021-05-17 23:00:00  5.741650e+07  ...                         0.0  5.754353e+07\n",
              "220 2021-05-18 00:00:00  5.735429e+07  ...                         0.0  5.729029e+07\n",
              "221 2021-05-18 01:00:00  5.729208e+07  ...                         0.0  5.702793e+07\n",
              "222 2021-05-18 02:00:00  5.722988e+07  ...                         0.0  5.689863e+07\n",
              "223 2021-05-18 03:00:00  5.716767e+07  ...                         0.0  5.696053e+07\n",
              "\n",
              "[224 rows x 16 columns]"
            ]
          },
          "metadata": {
            "tags": []
          },
          "execution_count": 87
        }
      ]
    },
    {
      "cell_type": "code",
      "metadata": {
        "id": "JB_UYNJ-uYZr"
      },
      "source": [
        ""
      ],
      "execution_count": null,
      "outputs": []
    }
  ]
}